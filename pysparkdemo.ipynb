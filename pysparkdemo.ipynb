{
  "cells": [
    {
      "cell_type": "markdown",
      "metadata": {
        "id": "view-in-github",
        "colab_type": "text"
      },
      "source": [
        "<a href=\"https://colab.research.google.com/github/christiandaniel1505/BIgData/blob/main/pysparkdemo.ipynb\" target=\"_parent\"><img src=\"https://colab.research.google.com/assets/colab-badge.svg\" alt=\"Open In Colab\"/></a>"
      ]
    },
    {
      "cell_type": "markdown",
      "source": [
        "# 2. Pengaturan PySpark di Colab\n",
        "Spark ditulis menggunakan bahasa pemrogrraman Scala dan membutuhkan Java Virtual\n",
        "Machine (JVM) untuk menjalankannya. Sebagai langkah pertama, lakukan instalasi Java.\n",
        "Untuk instalasi Apache Spark, unduh berkas menggunakan perintah wget kemudian\n",
        "ekstrak dengan perintah tar. Silahkan salin perintah berikut untuk melakukan instalasi."
      ],
      "metadata": {
        "id": "aDzs0XT7aYbk"
      }
    },
    {
      "cell_type": "code",
      "execution_count": 4,
      "metadata": {
        "id": "bMY3Hv9ZHYia"
      },
      "outputs": [],
      "source": [
        "!apt-get install openjdk-8-jdk-headless -qq > /dev/null\n",
        "!wget -q https://dlcdn.apache.org/spark/spark-3.2.1/spark-3.2.1-bin-hadoop3.2.tgz\n",
        "!tar xf spark-3.2.1-bin-hadoop3.2.tgz"
      ]
    },
    {
      "cell_type": "markdown",
      "source": [
        "Sebagai Langkah lanjutan, dibutuhkan pengaturan terkait Java dan Spark Home. Untuk\n",
        "melakukannya dapat memanfaatkan script pyton. Silahkan masukkan kode berikut ke\n",
        "dalam notebook."
      ],
      "metadata": {
        "id": "XJyPQq1Za5Ac"
      }
    },
    {
      "cell_type": "code",
      "execution_count": 5,
      "metadata": {
        "id": "Pt603TttJDuS"
      },
      "outputs": [],
      "source": [
        "import os\n",
        "os.environ[\"JAVA_HOME\"] = \"/usr/lib/jvm/java-8-openjdk-amd64\"\n",
        "os.environ[\"SPARK_HOME\"] = \"/content/spark-3.2.1-bin-hadoop3.2\""
      ]
    },
    {
      "cell_type": "markdown",
      "source": [
        "# 3. Konfigurasi PySpark\n",
        "Konfigurasi PySpark dapat dilakukan dengan menginstall library findspark yang digunakan\n",
        "untuk mencari lokasi Spark yang terinstall pada sistem. Proses instalasi dapat\n",
        "memanfaatkan perintah pip, silahkan perhatikan \n",
        "Setelah proses instalasi berhasil, lakukan import library dan inisialisasi findspark. Silahkan\n",
        "salin kode berikut ke dalam notebook.\n",
        "perintah di bawah ini.\n",
        "Koneksi ke dalam spark dapat dilakukan memanfaatkan SparkSession. Salin kode berikut,\n",
        "dimana spark menggunakan port 4050."
      ],
      "metadata": {
        "id": "Yd0EUhH8bD8O"
      }
    },
    {
      "cell_type": "code",
      "source": [
        "!pip install -q findspark\n",
        "\n",
        "import findspark\n",
        "findspark.init()\n",
        "\n",
        "from pyspark.sql import SparkSession\n",
        "spark = SparkSession.builder\\\n",
        " .master(\"local\")\\\n",
        " .appName(\"Colab\")\\\n",
        " .config('spark.ui.port', '4050')\\\n",
        " .getOrCreate()"
      ],
      "metadata": {
        "id": "O13srVzebFjJ"
      },
      "execution_count": 6,
      "outputs": []
    },
    {
      "cell_type": "markdown",
      "source": [
        "# 4. Memasukkan data ke dalam PySpark\n",
        "Spark mempunyai beberapa modul untuk membaca data dengan format yang berbeda.\n",
        "Spark secara otomatis akan menentukan tiap tipe data untuk setiap kolom. Data yang\n",
        "akan digunakan sebagai dataset dapat diunduh menggunakan perintah wget. Silahkan\n",
        "perhatikan perintah berikut."
      ],
      "metadata": {
        "id": "JlsAN0-BqSEK"
      }
    },
    {
      "cell_type": "code",
      "source": [
        "!wget --continue https://raw.githubusercontent.com/dhanifudin/pyspark-demo/main/sample_books.json -O /tmp/sample_books.json"
      ],
      "metadata": {
        "colab": {
          "base_uri": "https://localhost:8080/"
        },
        "id": "PvDoLXwpqXv7",
        "outputId": "9aa5f4a7-79ad-4ead-f854-ee53d2284038"
      },
      "execution_count": 7,
      "outputs": [
        {
          "output_type": "stream",
          "name": "stdout",
          "text": [
            "--2022-06-08 04:58:24--  https://raw.githubusercontent.com/dhanifudin/pyspark-demo/main/sample_books.json\n",
            "Resolving raw.githubusercontent.com (raw.githubusercontent.com)... 185.199.108.133, 185.199.109.133, 185.199.110.133, ...\n",
            "Connecting to raw.githubusercontent.com (raw.githubusercontent.com)|185.199.108.133|:443... connected.\n",
            "HTTP request sent, awaiting response... 200 OK\n",
            "Length: 1565 (1.5K) [text/plain]\n",
            "Saving to: ‘/tmp/sample_books.json’\n",
            "\n",
            "\r/tmp/sample_books.j   0%[                    ]       0  --.-KB/s               \r/tmp/sample_books.j 100%[===================>]   1.53K  --.-KB/s    in 0s      \n",
            "\n",
            "2022-06-08 04:58:24 (17.1 MB/s) - ‘/tmp/sample_books.json’ saved [1565/1565]\n",
            "\n"
          ]
        }
      ]
    },
    {
      "cell_type": "markdown",
      "source": [
        "Data yang telah diunduh dapat dibaca dengan menggunakan kode berikut. Silahkan salin\n",
        "kode berikut ke dalam notebook."
      ],
      "metadata": {
        "id": "Gl6W0X8Ar3Nn"
      }
    },
    {
      "cell_type": "code",
      "source": [
        "df = spark.read.json(\"/tmp/sample_books.json\")"
      ],
      "metadata": {
        "id": "79yz2sQCr35p"
      },
      "execution_count": 8,
      "outputs": []
    },
    {
      "cell_type": "markdown",
      "source": [
        "# 5. Analisa data menggunakan PySpark\n",
        "Sebelum dapat menganalisa dataset, perlu mengetahui schema data yang akan diolah.\n",
        "Schema dapat diketahui dengan menggunakan kode berikut. Kode ini memanfaatkan\n",
        "dataframe."
      ],
      "metadata": {
        "id": "v1RtSK-LsDt2"
      }
    },
    {
      "cell_type": "code",
      "source": [
        "df.printSchema()"
      ],
      "metadata": {
        "colab": {
          "base_uri": "https://localhost:8080/"
        },
        "id": "Dutmk1c5r7Cg",
        "outputId": "9da763f6-40c2-4773-9d95-2c99c82f4950"
      },
      "execution_count": 9,
      "outputs": [
        {
          "output_type": "stream",
          "name": "stdout",
          "text": [
            "root\n",
            " |-- author: string (nullable = true)\n",
            " |-- edition: string (nullable = true)\n",
            " |-- price: double (nullable = true)\n",
            " |-- title: string (nullable = true)\n",
            " |-- year_written: long (nullable = true)\n",
            "\n"
          ]
        }
      ]
    },
    {
      "cell_type": "markdown",
      "source": [
        "# 6. Menampilkan data\n",
        "Dataset dapat ditampilkan dengan perintah show dari dataframe. Perintah show memiliki\n",
        "parameter berupa jumlah recoord yang ditampilkan serta opsi truncate. Silahkan salin kode\n",
        "beriikut ke dalam notebook"
      ],
      "metadata": {
        "id": "3qVcKtDrsHOF"
      }
    },
    {
      "cell_type": "code",
      "source": [
        "df.show(4,False)"
      ],
      "metadata": {
        "colab": {
          "base_uri": "https://localhost:8080/"
        },
        "id": "5uNmVphisPz3",
        "outputId": "1d53cd49-9f35-4061-f842-b329c6c2b9de"
      },
      "execution_count": 10,
      "outputs": [
        {
          "output_type": "stream",
          "name": "stdout",
          "text": [
            "+---------------+--------------+-----+----------------+------------+\n",
            "|author         |edition       |price|title           |year_written|\n",
            "+---------------+--------------+-----+----------------+------------+\n",
            "|Austen, Jane   |Penguin       |18.2 |Northanger Abbey|1814        |\n",
            "|Tolstoy, Leo   |Penguin       |12.7 |War and Peace   |1865        |\n",
            "|Tolstoy, Leo   |Penguin       |13.5 |Anna Karenina   |1875        |\n",
            "|Woolf, Virginia|Harcourt Brace|25.0 |Mrs. Dalloway   |1925        |\n",
            "+---------------+--------------+-----+----------------+------------+\n",
            "only showing top 4 rows\n",
            "\n"
          ]
        }
      ]
    },
    {
      "cell_type": "markdown",
      "source": [
        "# 7. Menghitung jumlah dataset\n",
        "Dataset dapat dihitung menggunakan fungsi count, silahkan salin kode berikut ke dalam\n",
        "untuk mengetahui jumlah dataset yang dimiliki."
      ],
      "metadata": {
        "id": "wUme-hc3sTFa"
      }
    },
    {
      "cell_type": "code",
      "source": [
        "df.count()"
      ],
      "metadata": {
        "colab": {
          "base_uri": "https://localhost:8080/"
        },
        "id": "se16zfUGsXYJ",
        "outputId": "1ca7a8fc-9534-4b0c-8204-07ad133ff446"
      },
      "execution_count": 11,
      "outputs": [
        {
          "output_type": "execute_result",
          "data": {
            "text/plain": [
              "13"
            ]
          },
          "metadata": {},
          "execution_count": 11
        }
      ]
    },
    {
      "cell_type": "markdown",
      "source": [
        "# 8. Menampilkan kolom yang diinginkan\n",
        "Dataset dapat dipilih untuk menampilkan data dengan kolom tertentu dengan fungsi\n",
        "select. Untuk menampilkan hanya kolom title, price dan year_written, silahkan salin kode\n",
        "berikut ke dalam colab."
      ],
      "metadata": {
        "id": "qsSbeTCxsjtp"
      }
    },
    {
      "cell_type": "code",
      "source": [
        "df.select(\"title\", \"price\", \"year_written\").show(5)"
      ],
      "metadata": {
        "colab": {
          "base_uri": "https://localhost:8080/"
        },
        "id": "fLJOM4rOsmM8",
        "outputId": "02b01310-f63a-4af5-9860-34dfb2d5e58e"
      },
      "execution_count": 12,
      "outputs": [
        {
          "output_type": "stream",
          "name": "stdout",
          "text": [
            "+----------------+-----+------------+\n",
            "|           title|price|year_written|\n",
            "+----------------+-----+------------+\n",
            "|Northanger Abbey| 18.2|        1814|\n",
            "|   War and Peace| 12.7|        1865|\n",
            "|   Anna Karenina| 13.5|        1875|\n",
            "|   Mrs. Dalloway| 25.0|        1925|\n",
            "|       The Hours|12.35|        1999|\n",
            "+----------------+-----+------------+\n",
            "only showing top 5 rows\n",
            "\n"
          ]
        }
      ]
    },
    {
      "cell_type": "markdown",
      "source": [
        "# 9. Me-filter dataset\n",
        "PySpark dapat juga melakukan filter suatu dataset berdasarkan kondisi yang dibutuhkan.\n",
        "Sebagai contoh: dataset yang ingin ditampilkan adalah buku yang ditulis setelah tahun\n",
        "1950 dan harganya lebih dari $10. Filter dapat dilakukan dengan menuliskan kode berikut"
      ],
      "metadata": {
        "id": "jWCAMfnCsj0f"
      }
    },
    {
      "cell_type": "code",
      "source": [
        "df_filtered = df.filter(\"year_written > 1950 AND price > 10 AND title IS NOT NULL\")\n",
        "df_filtered.select(\"title\", \"price\", \"year_written\").show(50, False)"
      ],
      "metadata": {
        "colab": {
          "base_uri": "https://localhost:8080/"
        },
        "id": "4TpGCZKEsw7i",
        "outputId": "13f9ffa9-a994-430a-fe14-614c46fc2d12"
      },
      "execution_count": 13,
      "outputs": [
        {
          "output_type": "stream",
          "name": "stdout",
          "text": [
            "+-----------------------------+-----+------------+\n",
            "|title                        |price|year_written|\n",
            "+-----------------------------+-----+------------+\n",
            "|The Hours                    |12.35|1999        |\n",
            "|Harry Potter                 |19.95|2000        |\n",
            "|One Hundred Years of Solitude|14.0 |1967        |\n",
            "+-----------------------------+-----+------------+\n",
            "\n"
          ]
        }
      ]
    },
    {
      "cell_type": "markdown",
      "source": [
        "# 10. Penggunaan PySpark SQL functions\n",
        "PySpark mempunyai fungsi SQL lainnya, misalnya max, aggregate function (groupBy, sum,\n",
        "count dll). Contoh: menampilkan data buku paling mahal, dapat menggunakan fungsi\n",
        "max."
      ],
      "metadata": {
        "id": "TJc9NYFRs3eC"
      }
    },
    {
      "cell_type": "code",
      "source": [
        "from pyspark.sql import functions as f\n",
        "maxValue = df_filtered.agg(f.max(\"price\")).collect()[0][0]\n",
        "print(\"maxValue: \",maxValue)\n",
        "df_filtered.select(\"title\",\"price\").filter(df.price == maxValue).show(20, False)"
      ],
      "metadata": {
        "colab": {
          "base_uri": "https://localhost:8080/"
        },
        "id": "yQgP8XXts7P7",
        "outputId": "50a6e589-623e-404c-b1e8-7058eaefe594"
      },
      "execution_count": 14,
      "outputs": [
        {
          "output_type": "stream",
          "name": "stdout",
          "text": [
            "maxValue:  19.95\n",
            "+------------+-----+\n",
            "|title       |price|\n",
            "+------------+-----+\n",
            "|Harry Potter|19.95|\n",
            "+------------+-----+\n",
            "\n"
          ]
        }
      ]
    },
    {
      "cell_type": "markdown",
      "source": [
        "# TUGAS"
      ],
      "metadata": {
        "id": "s3LFrPbUtAhX"
      }
    },
    {
      "cell_type": "markdown",
      "source": [
        "## 1. Tampilkan data buku dengan harga paling murah!"
      ],
      "metadata": {
        "id": "sngYzi1rtB2u"
      }
    },
    {
      "cell_type": "code",
      "source": [
        "# minValue = df.agg(min(\"price\")).collect()[0][0]\n",
        "df.filter(\"price=\"+str(df.agg(f.min(\"price\")).collect()[0][0])).show()"
      ],
      "metadata": {
        "colab": {
          "base_uri": "https://localhost:8080/"
        },
        "id": "BbuckOVDtFw-",
        "outputId": "83431638-e336-4026-876a-bab5e614367c"
      },
      "execution_count": 15,
      "outputs": [
        {
          "output_type": "stream",
          "name": "stdout",
          "text": [
            "+----------------+------------+-----+-----------+------------+\n",
            "|          author|     edition|price|      title|year_written|\n",
            "+----------------+------------+-----+-----------+------------+\n",
            "|Dickens, Charles|Random House| 5.75|Bleak House|        1870|\n",
            "+----------------+------------+-----+-----------+------------+\n",
            "\n"
          ]
        }
      ]
    },
    {
      "cell_type": "markdown",
      "source": [
        "## 2. Tampilkan jumlah terbit buku dikategorikan setiap tahun ditulis!"
      ],
      "metadata": {
        "id": "wce4n33DtK-w"
      }
    },
    {
      "cell_type": "code",
      "source": [
        "df.groupBy('year_written').count().sort(df.year_written).show()"
      ],
      "metadata": {
        "colab": {
          "base_uri": "https://localhost:8080/"
        },
        "id": "zAOeNthwtOZY",
        "outputId": "ff0ddf8d-030a-4bba-835e-4fb60947e7eb"
      },
      "execution_count": 16,
      "outputs": [
        {
          "output_type": "stream",
          "name": "stdout",
          "text": [
            "+------------+-----+\n",
            "|year_written|count|\n",
            "+------------+-----+\n",
            "|        1603|    1|\n",
            "|        1814|    1|\n",
            "|        1862|    1|\n",
            "|        1865|    2|\n",
            "|        1870|    1|\n",
            "|        1875|    1|\n",
            "|        1922|    1|\n",
            "|        1925|    1|\n",
            "|        1937|    1|\n",
            "|        1967|    1|\n",
            "|        1999|    1|\n",
            "|        2000|    1|\n",
            "+------------+-----+\n",
            "\n"
          ]
        }
      ]
    },
    {
      "cell_type": "markdown",
      "source": [
        "## 3. Tampilkan data buku termahal tiap tahun penulisannya!"
      ],
      "metadata": {
        "id": "YKwkinZ-tS6V"
      }
    },
    {
      "cell_type": "code",
      "source": [
        "df.groupBy('year_written').max(\"price\").sort(df.year_written).show()"
      ],
      "metadata": {
        "colab": {
          "base_uri": "https://localhost:8080/"
        },
        "id": "omJegld8tVgm",
        "outputId": "1ce729da-1515-4f95-cab3-8203b066c095"
      },
      "execution_count": 20,
      "outputs": [
        {
          "output_type": "stream",
          "name": "stdout",
          "text": [
            "+------------+----------+\n",
            "|year_written|max(price)|\n",
            "+------------+----------+\n",
            "|        1603|      7.95|\n",
            "|        1814|      18.2|\n",
            "|        1862|      7.75|\n",
            "|        1865|      12.7|\n",
            "|        1870|      5.75|\n",
            "|        1875|      13.5|\n",
            "|        1922|      29.0|\n",
            "|        1925|      25.0|\n",
            "|        1937|     27.45|\n",
            "|        1967|      14.0|\n",
            "|        1999|     12.35|\n",
            "|        2000|     19.95|\n",
            "+------------+----------+\n",
            "\n"
          ]
        }
      ]
    },
    {
      "cell_type": "markdown",
      "source": [
        "## 4. Tampilkan data buku termurah tiap tahun penulisannya!"
      ],
      "metadata": {
        "id": "pc_9i5QGtdyG"
      }
    },
    {
      "cell_type": "code",
      "source": [
        "df.groupBy('year_written').min(\"price\").sort(df.year_written).show()"
      ],
      "metadata": {
        "colab": {
          "base_uri": "https://localhost:8080/"
        },
        "id": "0U0HxQTRtf-D",
        "outputId": "14375c80-241f-42d2-e46f-63855b0cf92c"
      },
      "execution_count": 18,
      "outputs": [
        {
          "output_type": "stream",
          "name": "stdout",
          "text": [
            "+------------+----------+\n",
            "|year_written|min(price)|\n",
            "+------------+----------+\n",
            "|        1603|      7.95|\n",
            "|        1814|      18.2|\n",
            "|        1862|      7.75|\n",
            "|        1865|      5.76|\n",
            "|        1870|      5.75|\n",
            "|        1875|      13.5|\n",
            "|        1922|      29.0|\n",
            "|        1925|      25.0|\n",
            "|        1937|     27.45|\n",
            "|        1967|      14.0|\n",
            "|        1999|     12.35|\n",
            "|        2000|     19.95|\n",
            "+------------+----------+\n",
            "\n"
          ]
        }
      ]
    }
  ],
  "metadata": {
    "colab": {
      "name": "pysparkdemo.ipynb",
      "provenance": [],
      "collapsed_sections": [],
      "authorship_tag": "ABX9TyPKrqTtSVmLAZ4RfjV5ALCJ",
      "include_colab_link": true
    },
    "kernelspec": {
      "display_name": "Python 3",
      "name": "python3"
    },
    "language_info": {
      "name": "python"
    }
  },
  "nbformat": 4,
  "nbformat_minor": 0
}